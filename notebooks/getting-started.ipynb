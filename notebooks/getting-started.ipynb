{
 "cells": [
  {
   "cell_type": "markdown",
   "id": "b1e72cec-1c9d-4fc0-af00-8d385d7450e6",
   "metadata": {},
   "source": [
    "# Language Model Notebooks \n",
    "\n",
    "This notebook is an example of how to use the notebook interface (popularized by Jupyter Notebooks @ https://jupyter.org/ and Colaboratory Notebooks @ https://colab.google/) to interact with large language models via an API.\n",
    "\n",
    "The benefits of the notebook interface: \n",
    "\n",
    "* you don't need to rely on a third-party provider such as OpenAI or Anthropic\n",
    "* you are less vulnerable to electricity grid and climate risks associated with AI's supply side bottleneck: https://www.wsj.com/tech/ai/why-the-ai-industrys-thirst-for-new-data-centers-cant-be-satisfied-93c7eff5\n",
    "* you can save your work reliably\n",
    "* you can include metadata and additional context to models more easily and reliably\n",
    "\n",
    "For hardware accelerators such as TPUs and GPUs, a solution such as https://github.com/skypilot-org/skypilot/ serves as a cloud-agnostic backend.\n",
    "\n",
    "There are no cloud-agnostic frontends yet for this type of work that interoperate with GitHub. If you know one, please let me know here: [@thejaan](https://twitter.com/thejaan)! :pray:"
   ]
  },
  {
   "cell_type": "markdown",
   "id": "1fa3f37a-f2ff-458e-a7b8-e296cdb89aef",
   "metadata": {},
   "source": [
    "## 1. Load the extension"
   ]
  },
  {
   "cell_type": "code",
   "execution_count": 2,
   "id": "18fbede1-a82a-4929-938e-25cf18d160f7",
   "metadata": {},
   "outputs": [],
   "source": [
    "%load_ext jupyter_ai"
   ]
  },
  {
   "cell_type": "markdown",
   "id": "8a6e4802-8c20-4f69-9c15-2d76aa22e075",
   "metadata": {},
   "source": [
    "## 2. Load your API key from an environment variables\n",
    "\n",
    "Save a file called `.env` in the root of this repository, and in it add your API key for Claude from https://console.anthropic.com/settings/keys\n",
    "\n",
    "Note: You need to be careful **never** to save this file because it is easy to accidentally commit it to GitHub. If your credit card is linked to a closed-source API and someone (or a robot) gets access to your API key, you might need to cancel your card and try to get a refund if they end up using your API a ton.\n",
    "\n",
    "We use the dotenv library for this: https://pypi.org/project/python-dotenv/"
   ]
  },
  {
   "cell_type": "code",
   "execution_count": 3,
   "id": "945fb6ae-e03c-4670-8210-cae493757ee6",
   "metadata": {},
   "outputs": [],
   "source": [
    "%load_ext dotenv"
   ]
  },
  {
   "cell_type": "code",
   "execution_count": 4,
   "id": "42d67f40-462b-43ba-a63f-fdd9e126a423",
   "metadata": {},
   "outputs": [],
   "source": [
    "%dotenv"
   ]
  },
  {
   "cell_type": "markdown",
   "id": "b93d0cb3-9844-4b3d-8778-360ec07b20ac",
   "metadata": {},
   "source": [
    "# 3. Recreate example from Readme\n",
    "\n",
    "https://github.com/jupyterlab/jupyter-ai shows this example: https://github.com/jupyterlab/jupyter-ai/blob/main/docs/source/_static/sample-html-math.png"
   ]
  },
  {
   "cell_type": "code",
   "execution_count": 8,
   "id": "9ae14480-b195-4686-9c80-70654bccfd24",
   "metadata": {},
   "outputs": [
    {
     "data": {
      "text/markdown": [
       "Cannot determine model provider from model ID `anthropic:claude-v1.2`.\n",
       "\n",
       "To see a list of models you can use, run `%ai list`\n",
       "\n",
       "If you were trying to run a command, run `%ai help` to see a list of commands."
      ],
      "text/plain": [
       "Cannot determine model provider from model ID 'anthropic:claude-v1.2'.\n",
       "\n",
       "To see a list of models you can use, run '%ai list'\n",
       "\n",
       "If you were trying to run a command, run '%ai help' to see a list of commands."
      ]
     },
     "execution_count": 8,
     "metadata": {},
     "output_type": "execute_result"
    }
   ],
   "source": [
    "%%ai anthropic:claude-v1.2\n",
    "\n",
    "Test"
   ]
  },
  {
   "cell_type": "code",
   "execution_count": null,
   "id": "8e36a7e9-edfd-4379-b8f8-0bd6654b0d3c",
   "metadata": {},
   "outputs": [],
   "source": []
  }
 ],
 "metadata": {
  "kernelspec": {
   "display_name": "Python 3 (ipykernel)",
   "language": "python",
   "name": "python3"
  },
  "language_info": {
   "codemirror_mode": {
    "name": "ipython",
    "version": 3
   },
   "file_extension": ".py",
   "mimetype": "text/x-python",
   "name": "python",
   "nbconvert_exporter": "python",
   "pygments_lexer": "ipython3",
   "version": "3.12.3"
  }
 },
 "nbformat": 4,
 "nbformat_minor": 5
}
