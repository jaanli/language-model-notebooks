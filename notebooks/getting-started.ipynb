{
 "cells": [
  {
   "cell_type": "markdown",
   "id": "b1e72cec-1c9d-4fc0-af00-8d385d7450e6",
   "metadata": {},
   "source": [
    "# Language Model Notebooks \n",
    "\n",
    "This notebook is an example of how to use the notebook interface (popularized by Jupyter Notebooks @ https://jupyter.org/ and Colaboratory Notebooks @ https://colab.google/) to interact with large language models via an API.\n",
    "\n",
    "The benefits of the notebook interface: \n",
    "\n",
    "* you don't need to rely on a third-party provider such as OpenAI or Anthropic\n",
    "* you are less vulnerable to electricity grid and climate risks associated with AI's supply side bottleneck: https://www.wsj.com/tech/ai/why-the-ai-industrys-thirst-for-new-data-centers-cant-be-satisfied-93c7eff5\n",
    "* you can save your work reliably\n",
    "* you can include metadata and additional context to models more easily and reliably\n",
    "\n",
    "For hardware accelerators such as TPUs and GPUs, a solution such as https://github.com/skypilot-org/skypilot/ serves as a cloud-agnostic backend.\n",
    "\n",
    "There are no cloud-agnostic frontends yet for this type of work that interoperate with GitHub. If you know one, please let me know here: [@thejaan](https://twitter.com/thejaan)! :pray:"
   ]
  },
  {
   "cell_type": "markdown",
   "id": "1fa3f37a-f2ff-458e-a7b8-e296cdb89aef",
   "metadata": {},
   "source": [
    "## 1. Load the extension"
   ]
  },
  {
   "cell_type": "code",
   "execution_count": 2,
   "id": "18fbede1-a82a-4929-938e-25cf18d160f7",
   "metadata": {},
   "outputs": [],
   "source": [
    "%load_ext jupyter_ai"
   ]
  },
  {
   "cell_type": "markdown",
   "id": "8a6e4802-8c20-4f69-9c15-2d76aa22e075",
   "metadata": {},
   "source": [
    "## 2. Load your API key from an environment variables\n",
    "\n",
    "Note: You need to be careful **never** to save this file because it is easy to accidentally commit it to GitHub. If your credit card is linked to a closed-source API and someone (or a robot) gets access to your API key, you might need to cancel your card and try to get a refund if they end up using your API a ton."
   ]
  },
  {
   "cell_type": "code",
   "execution_count": 8,
   "id": "945fb6ae-e03c-4670-8210-cae493757ee6",
   "metadata": {},
   "outputs": [
    {
     "data": {
      "text/plain": [
       "False"
      ]
     },
     "execution_count": 8,
     "metadata": {},
     "output_type": "execute_result"
    }
   ],
   "source": [
    "from dotenv import load_dotenv\n",
    "\n",
    "load_dotenv(\"../.env\")"
   ]
  },
  {
   "cell_type": "code",
   "execution_count": 5,
   "id": "44edf393-7785-4865-825c-177fbdfa05e6",
   "metadata": {},
   "outputs": [
    {
     "name": "stdout",
     "output_type": "stream",
     "text": [
      "\n"
     ]
    }
   ],
   "source": [
    "!echo $PROVIDER_API_KEY"
   ]
  },
  {
   "cell_type": "code",
   "execution_count": null,
   "id": "c74ba6e4-ffe7-4903-84f6-8b5b7c9e9f49",
   "metadata": {},
   "outputs": [],
   "source": []
  }
 ],
 "metadata": {
  "kernelspec": {
   "display_name": "Python 3 (ipykernel)",
   "language": "python",
   "name": "python3"
  },
  "language_info": {
   "codemirror_mode": {
    "name": "ipython",
    "version": 3
   },
   "file_extension": ".py",
   "mimetype": "text/x-python",
   "name": "python",
   "nbconvert_exporter": "python",
   "pygments_lexer": "ipython3",
   "version": "3.12.3"
  }
 },
 "nbformat": 4,
 "nbformat_minor": 5
}
